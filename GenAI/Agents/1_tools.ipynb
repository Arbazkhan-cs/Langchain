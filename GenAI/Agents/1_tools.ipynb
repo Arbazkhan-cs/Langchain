{
 "cells": [
  {
   "cell_type": "markdown",
   "id": "afe1a602",
   "metadata": {},
   "source": [
    "## Built in tools"
   ]
  },
  {
   "cell_type": "code",
   "execution_count": 3,
   "id": "a7dcd14b",
   "metadata": {},
   "outputs": [
    {
     "name": "stderr",
     "output_type": "stream",
     "text": [
      "c:\\Users\\Arbaz Khan\\Desktop\\LangChain\\venv\\Lib\\site-packages\\langchain_community\\utilities\\duckduckgo_search.py:62: UserWarning: backend='api' is deprecated, using backend='auto'\n",
      "  ddgs_gen = ddgs.text(\n"
     ]
    },
    {
     "name": "stdout",
     "output_type": "stream",
     "text": [
      "New Delhi, India - Current temperature and weather conditions. Detailed hourly weather forecast for today - including weather conditions, temperature, pressure, humidity, precipitation, dewpoint, wind, visibility, and UV index data. Current weather in New Delhi and forecast for today, tomorrow, and next 14 days Get today's real-time weather updates in New Delhi with hourly temperatures and a weekly forecast. Find out about New Delhi's temperature trends, rain chances, air quality (AQI), and humidity ... Latest weather forecast for Delhi for today's, hourly weather forecast, including today's temperatures in Delhi, wind, rain and more. Current weather in Delhi is 37°C. Get today's Delhi weather report along with accurate forecast including hourly, weekly and monthly reports at Oneindia.\n"
     ]
    }
   ],
   "source": [
    "# DuckDuckGo search\n",
    "from langchain_community.tools import DuckDuckGoSearchRun\n",
    "\n",
    "search_tool = DuckDuckGoSearchRun()\n",
    "\n",
    "result = search_tool.invoke(\"What is the current weather in new delhi?\")\n",
    "\n",
    "print(result)"
   ]
  },
  {
   "cell_type": "code",
   "execution_count": 6,
   "id": "038ceb6d",
   "metadata": {},
   "outputs": [
    {
     "name": "stdout",
     "output_type": "stream",
     "text": [
      "Executing command:\n",
      " dir /s\n",
      " Volume in drive C has no label.\n",
      " Volume Serial Number is FC0B-D5FF\n",
      "\n",
      " Directory of c:\\Users\\Arbaz Khan\\Desktop\\LangChain\\GenAI\\Agents\n",
      "\n",
      "01-07-2025  12:20    <DIR>          .\n",
      "01-07-2025  12:20    <DIR>          ..\n",
      "01-07-2025  12:57             3,723 1_tools.ipynb\n",
      "               1 File(s)          3,723 bytes\n",
      "\n",
      "     Total Files Listed:\n",
      "               1 File(s)          3,723 bytes\n",
      "               2 Dir(s)  10,225,811,456 bytes free\n",
      "\n"
     ]
    },
    {
     "name": "stderr",
     "output_type": "stream",
     "text": [
      "c:\\Users\\Arbaz Khan\\Desktop\\LangChain\\venv\\Lib\\site-packages\\langchain_community\\tools\\shell\\tool.py:32: UserWarning: The shell tool has no safeguards by default. Use at your own risk.\n",
      "  warnings.warn(\n"
     ]
    }
   ],
   "source": [
    "# Shell tool\n",
    "from langchain_community.tools import ShellTool\n",
    "\n",
    "shell_tool = ShellTool()\n",
    "\n",
    "result = shell_tool.invoke(\"dir /s\")\n",
    "\n",
    "print(result)"
   ]
  },
  {
   "cell_type": "markdown",
   "id": "0f86c0d4",
   "metadata": {},
   "source": [
    "## Custom tools - tool decorator"
   ]
  },
  {
   "cell_type": "code",
   "execution_count": 7,
   "id": "6ae9aa6c",
   "metadata": {},
   "outputs": [],
   "source": [
    "from langchain_community.tools import tool"
   ]
  },
  {
   "cell_type": "code",
   "execution_count": 8,
   "id": "83490a5a",
   "metadata": {},
   "outputs": [],
   "source": [
    "@tool\n",
    "def multiply(num1: int, num2: int) -> int:\n",
    "    \"\"\"This function multiplies 2 numbers\"\"\"\n",
    "    return num1 * num2"
   ]
  },
  {
   "cell_type": "code",
   "execution_count": 10,
   "id": "de1ce5ef",
   "metadata": {},
   "outputs": [
    {
     "data": {
      "text/plain": [
       "90"
      ]
     },
     "execution_count": 10,
     "metadata": {},
     "output_type": "execute_result"
    }
   ],
   "source": [
    "result = multiply.invoke({\"num1\": 9, \"num2\": 10})\n",
    "result"
   ]
  },
  {
   "cell_type": "code",
   "execution_count": 29,
   "id": "7d6a93a4",
   "metadata": {},
   "outputs": [
    {
     "name": "stdout",
     "output_type": "stream",
     "text": [
      "Name of the tool: multiply\n",
      "Description: This function multiplies 2 numbers\n",
      "Arguments: {'num1': {'title': 'Num1', 'type': 'integer'}, 'num2': {'title': 'Num2', 'type': 'integer'}}\n",
      "Json Schema: {\"title\": \"multiplySchema\", \"description\": \"This function multiplies 2 numbers\", \"type\": \"object\", \"properties\": {\"num1\": {\"title\": \"Num1\", \"type\": \"integer\"}, \"num2\": {\"title\": \"Num2\", \"type\": \"integer\"}}, \"required\": [\"num1\", \"num2\"]}\n"
     ]
    }
   ],
   "source": [
    "print(\"Name of the tool:\", multiply.name)\n",
    "print(\"Description:\", multiply.description)\n",
    "print(\"Arguments:\", multiply.args)\n",
    "print(\"Json Schema:\", multiply.args_schema.schema_json())"
   ]
  },
  {
   "cell_type": "markdown",
   "id": "3b61c0a5",
   "metadata": {},
   "source": [
    "### Structured tool"
   ]
  },
  {
   "cell_type": "code",
   "execution_count": 17,
   "id": "b867f131",
   "metadata": {},
   "outputs": [],
   "source": [
    "from langchain_community.tools import StructuredTool\n",
    "from pydantic import BaseModel, Field"
   ]
  },
  {
   "cell_type": "code",
   "execution_count": 18,
   "id": "e0958168",
   "metadata": {},
   "outputs": [],
   "source": [
    "class MultiplyInput(BaseModel):\n",
    "    num1: int = Field(\"first number for multiply\")\n",
    "    num2: int = Field(\"second number for multiply\")"
   ]
  },
  {
   "cell_type": "code",
   "execution_count": 19,
   "id": "b498fffb",
   "metadata": {},
   "outputs": [],
   "source": [
    "def func_multiply(num1, num2):\n",
    "    return num1 * num2"
   ]
  },
  {
   "cell_type": "code",
   "execution_count": 20,
   "id": "ebae9574",
   "metadata": {},
   "outputs": [],
   "source": [
    "multiply_tool = StructuredTool.from_function(\n",
    "    func=func_multiply,\n",
    "    name=\"multiply\",\n",
    "    description=\"multiply 2 numbers\",\n",
    "    agrs_schema=MultiplyInput\n",
    ")"
   ]
  },
  {
   "cell_type": "code",
   "execution_count": 22,
   "id": "5c533fcf",
   "metadata": {},
   "outputs": [
    {
     "data": {
      "text/plain": [
       "90"
      ]
     },
     "execution_count": 22,
     "metadata": {},
     "output_type": "execute_result"
    }
   ],
   "source": [
    "result = multiply_tool.invoke({\"num1\": 9, \"num2\": 10})\n",
    "result"
   ]
  },
  {
   "cell_type": "code",
   "execution_count": 30,
   "id": "7921a65e",
   "metadata": {},
   "outputs": [
    {
     "name": "stdout",
     "output_type": "stream",
     "text": [
      "Name of the tool: multiply\n",
      "Description: multiply 2 numbers\n",
      "Arguments: {'num1': {'title': 'Num1'}, 'num2': {'title': 'Num2'}}\n",
      "Json Schema: {\"title\": \"multiplySchema\", \"type\": \"object\", \"properties\": {\"num1\": {\"title\": \"Num1\"}, \"num2\": {\"title\": \"Num2\"}}, \"required\": [\"num1\", \"num2\"]}\n"
     ]
    }
   ],
   "source": [
    "print(\"Name of the tool:\", multiply_tool.name)\n",
    "print(\"Description:\", multiply_tool.description)\n",
    "print(\"Arguments:\", multiply_tool.args)\n",
    "print(\"Json Schema:\", multiply_tool.args_schema.schema_json())"
   ]
  },
  {
   "cell_type": "markdown",
   "id": "7dc524fe",
   "metadata": {},
   "source": [
    "### BaseTool"
   ]
  },
  {
   "cell_type": "code",
   "execution_count": 32,
   "id": "c858581d",
   "metadata": {},
   "outputs": [],
   "source": [
    "from langchain_community.tools import BaseTool\n",
    "from typing import Type\n",
    "from pydantic import BaseModel, Field"
   ]
  },
  {
   "cell_type": "code",
   "execution_count": 33,
   "id": "5ea74c50",
   "metadata": {},
   "outputs": [],
   "source": [
    "# arg schema using pydantic\n",
    "class MultiplyInput(BaseModel):\n",
    "    a: int = Field(required=True, description=\"The first number to add\")\n",
    "    b: int = Field(required=True, description=\"The second number to add\")"
   ]
  },
  {
   "cell_type": "code",
   "execution_count": 34,
   "id": "21cc044e",
   "metadata": {},
   "outputs": [],
   "source": [
    "class MultiplyTool(BaseTool):\n",
    "    name: str = \"multiply\"\n",
    "    description: str = \"multiply two numbers\"\n",
    "\n",
    "    args_schema: Type[BaseTool] = MultiplyInput\n",
    "    def _run(self, a: int, b: int) -> int:\n",
    "        return a * b"
   ]
  },
  {
   "cell_type": "code",
   "execution_count": 36,
   "id": "72125fdf",
   "metadata": {},
   "outputs": [
    {
     "name": "stdout",
     "output_type": "stream",
     "text": [
      "90\n"
     ]
    }
   ],
   "source": [
    "multiply_tool = MultiplyTool()\n",
    "result = multiply_tool.invoke({'a':9, 'b':10})\n",
    "print(result)"
   ]
  },
  {
   "cell_type": "code",
   "execution_count": 37,
   "id": "b67912fd",
   "metadata": {},
   "outputs": [
    {
     "name": "stdout",
     "output_type": "stream",
     "text": [
      "Name of the tool: multiply\n",
      "Description: multiply two numbers\n",
      "Arguments: {'a': {'description': 'The first number to add', 'required': True, 'title': 'A', 'type': 'integer'}, 'b': {'description': 'The second number to add', 'required': True, 'title': 'B', 'type': 'integer'}}\n",
      "Json Schema: {\"properties\": {\"a\": {\"description\": \"The first number to add\", \"required\": true, \"title\": \"A\", \"type\": \"integer\"}, \"b\": {\"description\": \"The second number to add\", \"required\": true, \"title\": \"B\", \"type\": \"integer\"}}, \"required\": [\"a\", \"b\"], \"title\": \"MultiplyInput\", \"type\": \"object\"}\n"
     ]
    }
   ],
   "source": [
    "print(\"Name of the tool:\", multiply_tool.name)\n",
    "print(\"Description:\", multiply_tool.description)\n",
    "print(\"Arguments:\", multiply_tool.args)\n",
    "print(\"Json Schema:\", multiply_tool.args_schema.schema_json())"
   ]
  },
  {
   "cell_type": "markdown",
   "id": "3daf69a0",
   "metadata": {},
   "source": [
    "## Toolkit"
   ]
  },
  {
   "cell_type": "code",
   "execution_count": 38,
   "id": "79cac0dc",
   "metadata": {},
   "outputs": [],
   "source": [
    "from langchain_core.tools import tool\n",
    "\n",
    "# Custom tools\n",
    "@tool\n",
    "def add(a: int, b: int) -> int:\n",
    "    \"\"\"Add two numbers\"\"\"\n",
    "    return a + b\n",
    "\n",
    "@tool\n",
    "def multiply(a: int, b: int) -> int:\n",
    "    \"\"\"Multiply two numbers\"\"\"\n",
    "    return a * b"
   ]
  },
  {
   "cell_type": "code",
   "execution_count": 40,
   "id": "a50987f8",
   "metadata": {},
   "outputs": [],
   "source": [
    "class MathToolkit:\n",
    "    def get_tools(self):\n",
    "        return [add, multiply]"
   ]
  },
  {
   "cell_type": "code",
   "execution_count": 41,
   "id": "7cf32d5a",
   "metadata": {},
   "outputs": [
    {
     "name": "stdout",
     "output_type": "stream",
     "text": [
      "add => Add two numbers\n",
      "multiply => Multiply two numbers\n"
     ]
    }
   ],
   "source": [
    "toolkit = MathToolkit()\n",
    "tools = toolkit.get_tools()\n",
    "\n",
    "for tool in tools:\n",
    "    print(tool.name, \"=>\", tool.description)"
   ]
  },
  {
   "cell_type": "code",
   "execution_count": null,
   "id": "9ec0a5c3",
   "metadata": {},
   "outputs": [],
   "source": []
  }
 ],
 "metadata": {
  "kernelspec": {
   "display_name": "venv",
   "language": "python",
   "name": "python3"
  },
  "language_info": {
   "codemirror_mode": {
    "name": "ipython",
    "version": 3
   },
   "file_extension": ".py",
   "mimetype": "text/x-python",
   "name": "python",
   "nbconvert_exporter": "python",
   "pygments_lexer": "ipython3",
   "version": "3.11.9"
  }
 },
 "nbformat": 4,
 "nbformat_minor": 5
}

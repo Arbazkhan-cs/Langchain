{
 "cells": [
  {
   "cell_type": "code",
   "execution_count": 1,
   "metadata": {},
   "outputs": [
    {
     "name": "stdout",
     "output_type": "stream",
     "text": [
      "Hello World\n"
     ]
    }
   ],
   "source": [
    "print(\"Hello World\")"
   ]
  },
  {
   "cell_type": "code",
   "execution_count": null,
   "metadata": {},
   "outputs": [],
   "source": []
  },
  {
   "cell_type": "markdown",
   "metadata": {},
   "source": [
    "### 1. Story Generator Agent"
   ]
  },
  {
   "cell_type": "code",
   "execution_count": null,
   "metadata": {},
   "outputs": [
    {
     "name": "stderr",
     "output_type": "stream",
     "text": [
      "c:\\Users\\Arbaz Khan\\Desktop\\LangChain\\venv\\Lib\\site-packages\\tqdm\\auto.py:21: TqdmWarning: IProgress not found. Please update jupyter and ipywidgets. See https://ipywidgets.readthedocs.io/en/stable/user_install.html\n",
      "  from .autonotebook import tqdm as notebook_tqdm\n"
     ]
    },
    {
     "name": "stdout",
     "output_type": "stream",
     "text": [
      "Generating story (CPU)...\n"
     ]
    },
    {
     "name": "stderr",
     "output_type": "stream",
     "text": [
      "c:\\Users\\Arbaz Khan\\Desktop\\LangChain\\venv\\Lib\\site-packages\\huggingface_hub\\file_download.py:157: UserWarning: `huggingface_hub` cache-system uses symlinks by default to efficiently store duplicated files but your machine does not support them in C:\\Users\\Arbaz Khan\\.cache\\huggingface\\hub\\models--EleutherAI--gpt-neo-1.3B. Caching files will still work but in a degraded version that might require more space on your disk. This warning can be disabled by setting the `HF_HUB_DISABLE_SYMLINKS_WARNING` environment variable. For more details, see https://huggingface.co/docs/huggingface_hub/how-to-cache#limitations.\n",
      "To support symlinks on Windows, you either need to activate Developer Mode or to run Python as an administrator. In order to see activate developer mode, see this article: https://docs.microsoft.com/en-us/windows/apps/get-started/enable-your-device-for-development\n",
      "  warnings.warn(message)\n"
     ]
    }
   ],
   "source": [
    "from transformers import pipeline\n",
    "\n",
    "def story_generator_agent(prompt):\n",
    "    print(\"Generating story (CPU)...\")\n",
    "    generator = pipeline(\"text-generation\", model=\"EleutherAI/gpt-neo-1.3B\", device=-1)  # device=-1 forces CPU\n",
    "    story = generator(prompt, max_length=150, num_return_sequences=1)[0][\"generated_text\"]\n",
    "    return story\n",
    "\n",
    "# Example:\n",
    "story = story_generator_agent(\"A white tiger fighting a tiger in the jungle\")\n",
    "print(story)"
   ]
  },
  {
   "cell_type": "markdown",
   "metadata": {},
   "source": [
    "### 2. Image Generator Agent"
   ]
  },
  {
   "cell_type": "code",
   "execution_count": null,
   "metadata": {},
   "outputs": [
    {
     "name": "stderr",
     "output_type": "stream",
     "text": [
      "c:\\Users\\Arbaz Khan\\Desktop\\LangChain\\venv\\Lib\\site-packages\\tqdm\\auto.py:21: TqdmWarning: IProgress not found. Please update jupyter and ipywidgets. See https://ipywidgets.readthedocs.io/en/stable/user_install.html\n",
      "  from .autonotebook import tqdm as notebook_tqdm\n"
     ]
    },
    {
     "name": "stdout",
     "output_type": "stream",
     "text": [
      "Generating image (CPU)...\n"
     ]
    },
    {
     "name": "stderr",
     "output_type": "stream",
     "text": [
      "c:\\Users\\Arbaz Khan\\Desktop\\LangChain\\venv\\Lib\\site-packages\\huggingface_hub\\file_download.py:157: UserWarning: `huggingface_hub` cache-system uses symlinks by default to efficiently store duplicated files but your machine does not support them in C:\\Users\\Arbaz Khan\\.cache\\huggingface\\hub\\models--runwayml--stable-diffusion-v1-5. Caching files will still work but in a degraded version that might require more space on your disk. This warning can be disabled by setting the `HF_HUB_DISABLE_SYMLINKS_WARNING` environment variable. For more details, see https://huggingface.co/docs/huggingface_hub/how-to-cache#limitations.\n",
      "To support symlinks on Windows, you either need to activate Developer Mode or to run Python as an administrator. In order to see activate developer mode, see this article: https://docs.microsoft.com/en-us/windows/apps/get-started/enable-your-device-for-development\n",
      "  warnings.warn(message)\n",
      "Fetching 15 files:   7%|▋         | 1/15 [00:01<00:17,  1.24s/it]"
     ]
    }
   ],
   "source": [
    "from diffusers import StableDiffusionPipeline\n",
    "\n",
    "def image_generator_agent(prompt, output_path=\"generated_image.png\"):\n",
    "    print(\"Generating image (CPU)...\")\n",
    "    model_id = \"runwayml/stable-diffusion-v1-5\"\n",
    "    pipe = StableDiffusionPipeline.from_pretrained(model_id)  # Default is CPU\n",
    "    image = pipe(prompt).images[0]\n",
    "    image.save(output_path)\n",
    "    return output_path\n",
    "\n",
    "# Example:\n",
    "image_path = image_generator_agent(\"A white tiger fighting a tiger in a jungle\")\n",
    "print(f\"Image saved at {image_path}\")"
   ]
  },
  {
   "cell_type": "markdown",
   "metadata": {},
   "source": [
    "### 3. Video Creator Agent"
   ]
  },
  {
   "cell_type": "code",
   "execution_count": null,
   "metadata": {},
   "outputs": [],
   "source": [
    "from moviepy.editor import ImageClip, TextClip, CompositeVideoClip\n",
    "\n",
    "def video_creator_agent(image_path, text, output_path=\"video.mp4\"):\n",
    "    print(\"Creating video...\")\n",
    "    image_clip = ImageClip(image_path).set_duration(30)\n",
    "    text_clip = TextClip(text, fontsize=24, color='white', bg_color='black', size=(1280, 720)).set_duration(30).set_position(\"bottom\")\n",
    "    final_video = CompositeVideoClip([image_clip, text_clip])\n",
    "    final_video.write_videofile(output_path, fps=24)\n",
    "    return output_path"
   ]
  },
  {
   "cell_type": "markdown",
   "metadata": {},
   "source": [
    "### 4. Voiceover Agent"
   ]
  },
  {
   "cell_type": "code",
   "execution_count": null,
   "metadata": {},
   "outputs": [],
   "source": [
    "import pyttsx3\n",
    "\n",
    "def voiceover_agent(text, audio_path=\"voiceover.mp3\"):\n",
    "    print(\"Generating voiceover...\")\n",
    "    engine = pyttsx3.init()\n",
    "    engine.save_to_file(text, audio_path)\n",
    "    engine.runAndWait()\n",
    "    return audio_path"
   ]
  },
  {
   "cell_type": "markdown",
   "metadata": {},
   "source": [
    "### 5. Audio-Video Combiner Agent"
   ]
  },
  {
   "cell_type": "code",
   "execution_count": null,
   "metadata": {},
   "outputs": [],
   "source": [
    "from moviepy.editor import VideoFileClip, AudioFileClip\n",
    "\n",
    "def audio_video_combiner_agent(video_path, audio_path, output_path=\"final_video.mp4\"):\n",
    "    print(\"Combining audio with video...\")\n",
    "    video = VideoFileClip(video_path)\n",
    "    audio = AudioFileClip(audio_path)\n",
    "    final_video = video.set_audio(audio)\n",
    "    final_video.write_videofile(output_path, fps=24)\n",
    "    return output_path"
   ]
  },
  {
   "cell_type": "markdown",
   "metadata": {},
   "source": [
    "### 6. Scheduling and Running"
   ]
  },
  {
   "cell_type": "code",
   "execution_count": null,
   "metadata": {},
   "outputs": [],
   "source": [
    "import schedule\n",
    "import time\n",
    "\n",
    "def automate_youtube_shorts():\n",
    "    print(\"Starting automation workflow...\")\n",
    "    \n",
    "    # Step 1: Generate the story\n",
    "    story = story_generator_agent(\"A white tiger fighting a tiger in the jungle\")\n",
    "    print(f\"Story generated: {story}\")\n",
    "    \n",
    "    # Step 2: Generate the image\n",
    "    image_path = image_generator_agent(\"A white tiger fighting a tiger in the jungle\")\n",
    "    print(f\"Image generated: {image_path}\")\n",
    "    \n",
    "    # Step 3: Create the video\n",
    "    video_path = video_creator_agent(image_path, story)\n",
    "    print(f\"Video created: {video_path}\")\n",
    "    \n",
    "    # Step 4: Generate voiceover\n",
    "    audio_path = voiceover_agent(story)\n",
    "    print(f\"Voiceover generated: {audio_path}\")\n",
    "    \n",
    "    # Step 5: Combine audio and video\n",
    "    final_video_path = audio_video_combiner_agent(video_path, audio_path)\n",
    "    print(f\"Final video created: {final_video_path}\")\n",
    "    \n",
    "    # Step 6: Placeholder for publishing\n",
    "    print(f\"Ready for upload: {final_video_path}\")\n",
    "\n",
    "schedule.every().day.at(\"10:00\").do(automate_youtube_shorts)\n",
    "\n",
    "print(\"Automation is scheduled. Waiting to run...\")\n",
    "while True:\n",
    "    schedule.run_pending()\n",
    "    time.sleep(1)"
   ]
  }
 ],
 "metadata": {
  "kernelspec": {
   "display_name": "venv",
   "language": "python",
   "name": "python3"
  },
  "language_info": {
   "codemirror_mode": {
    "name": "ipython",
    "version": 3
   },
   "file_extension": ".py",
   "mimetype": "text/x-python",
   "name": "python",
   "nbconvert_exporter": "python",
   "pygments_lexer": "ipython3",
   "version": "3.11.9"
  }
 },
 "nbformat": 4,
 "nbformat_minor": 2
}

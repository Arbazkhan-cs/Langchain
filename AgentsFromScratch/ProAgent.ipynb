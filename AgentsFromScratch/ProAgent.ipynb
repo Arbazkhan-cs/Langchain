{
 "cells": [
  {
   "cell_type": "code",
   "execution_count": 1,
   "metadata": {},
   "outputs": [
    {
     "name": "stdout",
     "output_type": "stream",
     "text": [
      "Hello World\n"
     ]
    }
   ],
   "source": [
    "print(\"Hello World\")"
   ]
  },
  {
   "cell_type": "code",
   "execution_count": 2,
   "metadata": {},
   "outputs": [],
   "source": [
    "from langchain_groq import ChatGroq\n",
    "from langchain.prompts import ChatPromptTemplate\n",
    "from dotenv import load_dotenv\n",
    "\n",
    "import base64, requests, subprocess, tempfile, re, importlib, sys\n",
    "from PIL import Image\n",
    "from io import BytesIO\n",
    "import os"
   ]
  },
  {
   "cell_type": "code",
   "execution_count": 3,
   "metadata": {},
   "outputs": [
    {
     "data": {
      "text/plain": [
       "True"
      ]
     },
     "execution_count": 3,
     "metadata": {},
     "output_type": "execute_result"
    }
   ],
   "source": [
    "load_dotenv()"
   ]
  },
  {
   "cell_type": "code",
   "execution_count": 15,
   "metadata": {},
   "outputs": [],
   "source": [
    "class ProAgent:\n",
    "    def __init__(self) -> None:\n",
    "        self.llm = ChatGroq(model=\"llama3-8b-8192\", temperature=0.7, max_tokens=4000)\n",
    "        self.template = [(\"system\", \"You are a python code generator. Respond only with executable Python code, no explanations or comments except for required pip installations at the top\"), (\"user\", \"Generate python code to {prompt}. If you need to use any libraires, include a comment at the top of the code listing required pip installations.\")]\n",
    "\n",
    "        self.promptTemplate = ChatPromptTemplate.from_messages(self.template)\n",
    "        self.model = self.promptTemplate | self.llm\n",
    "        \n",
    "\n",
    "    def generate_code(self, prompt):\n",
    "        result = self.model.invoke({\"prompt\": prompt})\n",
    "        code = re.sub(r'^```python\\n|```$', '', result.content, flags=re.MULTILINE)\n",
    "        code_lines = code.split(\"\\n\")\n",
    "        while code_lines and not (code_lines[0].startswith('import') or code_lines[0].startswith('from') or code_lines[0].startswith(\"#\")):\n",
    "            code_lines.pop(0)\n",
    "        \n",
    "        return '\\n'.join(code_lines)\n",
    "\n",
    "    def install_libraries(self, code):\n",
    "        libraries = re.findall(r'#\\s*pip install\\s+([\\w-]+)', code)\n",
    "        if libraries:\n",
    "            print(\"Installing required libraries...\")\n",
    "            for lib in libraries:\n",
    "                try:\n",
    "                    importlib.import_module(lib.replace('-', '_'))\n",
    "                    print(f\"{lib} is already installed.\")\n",
    "                except ImportError:\n",
    "                    print(f\"Installing {lib}...\")\n",
    "                    # print(sys.executable)\n",
    "                    subprocess.check_call([sys.executable, \"-m\", \"pip\", \"install\", lib])\n",
    "            \n",
    "            print(\"Libraries Installed Successfully\")\n",
    "    \n",
    "    def execute_code(self, code):\n",
    "        with tempfile.NamedTemporaryFile(mode='w', suffix=\".py\", delete=False) as temp_file:\n",
    "            temp_file.write(code)\n",
    "            temp_file_path = temp_file.name\n",
    "\n",
    "        try:\n",
    "            result = subprocess.run([sys.executable, temp_file_path], capture_output=True, text=True, timeout=30)\n",
    "            output = result.stdout\n",
    "            err = result.stderr\n",
    "        except subprocess.TimeoutExpired:\n",
    "            output = \"\"\n",
    "            err = \"Execution timed out after 30 seconds.\"\n",
    "        except Exception as e:\n",
    "            output = \"\"\n",
    "            err = f\"An error occurred during execution: {str(e)}\"\n",
    "        finally:\n",
    "            os.unlink(temp_file_path)\n",
    "\n",
    "        return output, err\n",
    "\n",
    "    def run(self, prompt):\n",
    "        print(f\"Generating Code For: {prompt}\")\n",
    "        code = self.generate_code(prompt=prompt)\n",
    "        print(\"Generate code:\")\n",
    "        print(code)\n",
    "        print(\"Executing code...\")\n",
    "        self.install_libraries(code)\n",
    "        output, err = self.execute_code(code)\n",
    "\n",
    "        if output:\n",
    "            print(\"Output:\")\n",
    "            print(output)\n",
    "        if err:\n",
    "            print(\"Error:\")\n",
    "            print(err)"
   ]
  },
  {
   "cell_type": "code",
   "execution_count": 16,
   "metadata": {},
   "outputs": [],
   "source": [
    "agent = ProAgent()\n",
    "# agent.run(\"\"\"\"\"\")"
   ]
  },
  {
   "cell_type": "code",
   "execution_count": 17,
   "metadata": {},
   "outputs": [
    {
     "name": "stdout",
     "output_type": "stream",
     "text": [
      "Generating Code For: Right the code for palindrome\n",
      "Generate code:\n",
      "import pyperclip\n",
      "\n",
      "def is_palindrome(s):\n",
      "    return s == s[::-1]\n",
      "\n",
      "text = pyperclip.paste()\n",
      "if is_palindrome(text):\n",
      "    print(\"The text is a palindrome.\")\n",
      "else:\n",
      "    print(\"The text is not a palindrome.\")\n",
      "Executing code...\n",
      "Error:\n",
      "Traceback (most recent call last):\n",
      "  File \"C:\\Users\\ARBAZK~1\\AppData\\Local\\Temp\\tmpspdr2aun.py\", line 1, in <module>\n",
      "    import pyperclip\n",
      "ModuleNotFoundError: No module named 'pyperclip'\n",
      "\n"
     ]
    }
   ],
   "source": [
    "# agent.run(\"\"\"make a detailed deck on the best forms of leadership with atleast 3 slides and save it to a pptx called leadership.pptx\"\"\")\n",
    "\n",
    "agent.run(\"\"\"Right the code for palindrome\"\"\")"
   ]
  },
  {
   "cell_type": "code",
   "execution_count": null,
   "metadata": {},
   "outputs": [],
   "source": []
  }
 ],
 "metadata": {
  "kernelspec": {
   "display_name": "venv",
   "language": "python",
   "name": "python3"
  },
  "language_info": {
   "codemirror_mode": {
    "name": "ipython",
    "version": 3
   },
   "file_extension": ".py",
   "mimetype": "text/x-python",
   "name": "python",
   "nbconvert_exporter": "python",
   "pygments_lexer": "ipython3",
   "version": "3.11.9"
  }
 },
 "nbformat": 4,
 "nbformat_minor": 2
}

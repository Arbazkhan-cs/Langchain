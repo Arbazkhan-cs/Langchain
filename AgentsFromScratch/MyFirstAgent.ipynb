{
 "cells": [
  {
   "cell_type": "markdown",
   "metadata": {},
   "source": [
    "## Importing Neccessary Libraries"
   ]
  },
  {
   "cell_type": "code",
   "execution_count": 1,
   "metadata": {},
   "outputs": [],
   "source": [
    "from langchain_groq import ChatGroq\n",
    "from langchain.prompts import ChatPromptTemplate\n",
    "from langchain.agents import create_tool_calling_agent, tool, AgentExecutor\n",
    "\n",
    "from dotenv import load_dotenv\n",
    "import re\n",
    "from importlib import import_module\n",
    "import subprocess\n",
    "import sys\n",
    "import tempfile\n",
    "import os"
   ]
  },
  {
   "cell_type": "code",
   "execution_count": 2,
   "metadata": {},
   "outputs": [
    {
     "data": {
      "text/plain": [
       "True"
      ]
     },
     "execution_count": 2,
     "metadata": {},
     "output_type": "execute_result"
    }
   ],
   "source": [
    "load_dotenv()"
   ]
  },
  {
   "cell_type": "markdown",
   "metadata": {},
   "source": [
    "## Load Model"
   ]
  },
  {
   "cell_type": "code",
   "execution_count": 67,
   "metadata": {},
   "outputs": [],
   "source": [
    "# Template for the system and user messages\n",
    "template = ChatPromptTemplate.from_messages([\n",
    "    (\"system\", \"\"\"You are an AI Python code generator and tester. Your task is to generate and execute Python code following a structured process. Follow these steps carefully:\n",
    "\n",
    "    1. **Code Generation:**\n",
    "       - Generate Python code to complete the task based on the user's input. Include test cases for validation where appropriate.\n",
    "\n",
    "    2. **Library Installation:**\n",
    "       - If the code requires any external libraries, use the install_libraries function to install them first. For example, use `install_libraries(\"python-pptx\")` to install the necessary library.\n",
    "\n",
    "    3. **Code Execution:**\n",
    "       - Once the code is generated and necessary libraries are installed, use the `execute_code` function to run the code.\n",
    "       - If the code runs successfully without errors and the output includes \"Execution successful\", respond with the final code and stop further execution.\n",
    "\n",
    "    4. **Error Handling:**\n",
    "       - If an error occurs during code execution (e.g., syntax errors, exceptions), debug the issue and provide both the error message and the fix.\n",
    "       - Reattempt execution after fixing the error.\n",
    "       \n",
    "    **Important Notes:**\n",
    "    - Do not repeat successful tasks. Once the task completes successfully, stop execution.\n",
    "    - Provide clear error messages and details if debugging is necessary.\n",
    "\n",
    "    Available tools:\n",
    "    - install_libraries(libraries: str) -> str\n",
    "    - execute_code(code: str) -> str\n",
    "    \"\"\"),\n",
    "    (\"user\", \"\"\"Generate Python code to {input} {agent_scratchpad}\"\"\"),\n",
    "])\n",
    "\n",
    "# Load the model\n",
    "llm = ChatGroq(model=\"gemma2-9b-it\", temperature=0.5)"
   ]
  },
  {
   "cell_type": "markdown",
   "metadata": {},
   "source": [
    "## Create Tools"
   ]
  },
  {
   "cell_type": "code",
   "execution_count": 68,
   "metadata": {},
   "outputs": [],
   "source": [
    "@tool\n",
    "def install_libraries(libraries: str) -> str:\n",
    "    \"\"\"Install necessary libraries. Input should be a comma-separated string of library names.\"\"\"\n",
    "    libraries = [lib.strip() for lib in libraries.split(',')]\n",
    "    results = []\n",
    "    \n",
    "    for lib in libraries:\n",
    "        # Try importing the module in different ways\n",
    "        try:\n",
    "            # Attempt to import the library normally\n",
    "            import_module(lib.replace('-', '_'))\n",
    "            results.append(f\"{lib} is already installed.\")\n",
    "        except ImportError:\n",
    "            # Try importing after removing \"python-\" prefix if present\n",
    "            try:\n",
    "                import_module(lib.replace('python-', ''))\n",
    "                results.append(f\"{lib} (after modifying the name) is already installed.\")\n",
    "            except ImportError:\n",
    "                # If import fails, try installing the library via pip\n",
    "                try:\n",
    "                    subprocess.check_call([sys.executable, \"-m\", \"pip\", \"install\", lib], stdout=subprocess.DEVNULL, stderr=subprocess.DEVNULL)\n",
    "                    results.append(f\"{lib} was successfully installed.\")\n",
    "                except subprocess.CalledProcessError as e:\n",
    "                    results.append(f\"Failed to install {lib}: {e}\")\n",
    "    \n",
    "    return \"\\n\".join(results)\n",
    "\n",
    "@tool\n",
    "def execute_code(code: str) -> str:\n",
    "    \"\"\"Execute the code and return output and error as a single string.\"\"\"\n",
    "    with tempfile.NamedTemporaryFile(mode='w', suffix=\".py\", delete=False) as temp_file:\n",
    "        temp_file.write(code)\n",
    "        temp_file_path = temp_file.name\n",
    "    \n",
    "    try:\n",
    "        # Run the code and capture output and errors\n",
    "        result = subprocess.run([sys.executable, temp_file_path], capture_output=True, text=True, timeout=60)\n",
    "        output = result.stdout\n",
    "        err = result.stderr\n",
    "        \n",
    "        if err:\n",
    "            return f\"Execution failed with error:\\n{err}\"\n",
    "        elif output:\n",
    "            return f\"Execution successful. Output:\\n{output}\"\n",
    "        else:\n",
    "            return \"Execution completed without output.\"\n",
    "    \n",
    "    except subprocess.TimeoutExpired:\n",
    "        return \"Execution timed out after 60 seconds.\"\n",
    "    \n",
    "    except Exception as e:\n",
    "        return f\"An error occurred during execution: {str(e)}\"\n",
    "    \n",
    "    finally:\n",
    "        # Ensure the temporary file is deleted after execution\n",
    "        os.unlink(temp_file_path)"
   ]
  },
  {
   "cell_type": "code",
   "execution_count": 69,
   "metadata": {},
   "outputs": [],
   "source": [
    "# Create tools list\n",
    "tools = [install_libraries, execute_code]\n",
    "\n",
    "# Create agent\n",
    "agent = create_tool_calling_agent(\n",
    "    llm=llm,\n",
    "    tools=tools,\n",
    "    prompt=template\n",
    ")\n",
    "\n",
    "# Create agent executor\n",
    "agent_executor = AgentExecutor(agent=agent, tools=tools, verbose=True, max_iterations=5)"
   ]
  },
  {
   "cell_type": "code",
   "execution_count": 70,
   "metadata": {},
   "outputs": [
    {
     "name": "stdout",
     "output_type": "stream",
     "text": [
      "\n",
      "\n",
      "\u001b[1m> Entering new AgentExecutor chain...\u001b[0m\n",
      "\u001b[32;1m\u001b[1;3m\n",
      "Invoking: `install_libraries` with `{'libraries': 'python-pptx'}`\n",
      "\n",
      "\n",
      "\u001b[0m\u001b[36;1m\u001b[1;3mpython-pptx (after modifying the name) is already installed.\u001b[0m\u001b[32;1m\u001b[1;3m\n",
      "Invoking: `execute_code` with `{'code': \"import pptx\\n\\nprs = pptx.Presentation()\\n\\nslide_1 = prs.slides.add_slide(prs.slide_layouts[0])\\ntitle = slide_1.shapes.title\\ntitle.text = 'Best Forms of Leadership'\\n\\nslide_2 = prs.slides.add_slide(prs.slide_layouts[1])\\ntitle = slide_2.shapes.title\\ntitle.text = 'Transformational Leadership'\\nslide_2.shapes.placeholders[1].text = 'Inspire and motivate followers to achieve great things. Focus on vision, empowerment, and ethical behavior.'\\n\\nslide_3 = prs.slides.add_slide(prs.slide_layouts[1])\\ntitle = slide_3.shapes.title\\ntitle.text = 'Servant Leadership'\\nslide_3.shapes.placeholders[1].text = 'Prioritize the needs of others, empower them, and build strong relationships. Focus on service, empathy, and stewardship.'\\n\\nslide_4 = prs.slides.add_slide(prs.slide_layouts[1])\\ntitle = slide_4.shapes.title\\ntitle.text = 'Democratic Leadership'\\nslide_4.shapes.placeholders[1].text = 'Involve followers in decision-making, encourage participation, and value diverse perspectives. Focus on collaboration, consensus building, and shared responsibility.'\\n\\nslide_5 = prs.slides.add_slide(prs.slide_layouts[1])\\ntitle = slide_5.shapes.title\\ntitle.text = 'Strategic Leadership'\\nslide_5.shapes.placeholders[1].text = 'Set a clear vision, develop strategies to achieve goals, and effectively allocate resources. Focus on planning, execution, and results.'\\n\\nprs.save('leadership.pptx')\"}`\n",
      "\n",
      "\n",
      "\u001b[0m\u001b[33;1m\u001b[1;3mExecution completed without output.\u001b[0m\u001b[32;1m\u001b[1;3m\n",
      "Invoking: `install_libraries` with `{'libraries': 'python-pptx'}`\n",
      "\n",
      "\n",
      "\u001b[0m\u001b[36;1m\u001b[1;3mpython-pptx (after modifying the name) is already installed.\u001b[0m\u001b[32;1m\u001b[1;3m\n",
      "Invoking: `execute_code` with `{'code': \"import pptx\\n\\nprs = pptx.Presentation()\\n\\nslide_1 = prs.slides.add_slide(prs.slide_layouts[0])\\ntitle = slide_1.shapes.title\\ntitle.text = 'Best Forms of Leadership'\\n\\nslide_2 = prs.slides.add_slide(prs.slide_layouts[1])\\ntitle = slide_2.shapes.title\\ntitle.text = 'Transformational Leadership'\\nslide_2.shapes.placeholders[1].text = 'Inspire and motivate followers to achieve great things. Focus on vision, empowerment, and ethical behavior.'\\n\\nslide_3 = prs.slides.add_slide(prs.slide_layouts[1])\\ntitle = slide_3.shapes.title\\ntitle.text = 'Servant Leadership'\\nslide_3.shapes.placeholders[1].text = 'Prioritize the needs of others, empower them, and build strong relationships. Focus on service, empathy, and stewardship.'\\n\\nslide_4 = prs.slides.add_slide(prs.slide_layouts[1])\\ntitle = slide_4.shapes.title\\ntitle.text = 'Democratic Leadership'\\nslide_4.shapes.placeholders[1].text = 'Involve followers in decision-making, encourage participation, and value diverse perspectives. Focus on collaboration, consensus building, and shared responsibility.'\\n\\nslide_5 = prs.slides.add_slide(prs.slide_layouts[1])\\ntitle = slide_5.shapes.title\\ntitle.text = 'Strategic Leadership'\\nslide_5.shapes.placeholders[1].text = 'Set a clear vision, develop strategies to achieve goals, and effectively allocate resources. Focus on planning, execution, and results.'\\n\\nprs.save('leadership.pptx')\\n\"}`\n",
      "\n",
      "\n",
      "\u001b[0m\u001b[33;1m\u001b[1;3mExecution completed without output.\u001b[0mAn error occurred during agent execution: Error code: 400 - {'error': {'message': 'Please reduce the length of the messages or completion.', 'type': 'invalid_request_error', 'param': 'messages', 'code': 'context_length_exceeded'}}\n"
     ]
    }
   ],
   "source": [
    "try:\n",
    "    # Invoke the agent with the task input\n",
    "    result = agent_executor.invoke({\n",
    "        \"input\": \"make a detailed deck on the best forms of leadership with atleast 5 slides having 100 words in every slide and save it to a pptx called leadership.pptx\"\n",
    "    })\n",
    "    print(result)\n",
    "except Exception as e:\n",
    "    print(f\"An error occurred during agent execution: {str(e)}\")"
   ]
  },
  {
   "cell_type": "code",
   "execution_count": 71,
   "metadata": {},
   "outputs": [
    {
     "name": "stdout",
     "output_type": "stream",
     "text": [
      "Agent stopped due to max iterations.\n"
     ]
    }
   ],
   "source": [
    "print(result[\"output\"].split(\"```\")[0])\n"
   ]
  },
  {
   "cell_type": "code",
   "execution_count": null,
   "metadata": {},
   "outputs": [],
   "source": []
  }
 ],
 "metadata": {
  "kernelspec": {
   "display_name": "venv",
   "language": "python",
   "name": "python3"
  },
  "language_info": {
   "codemirror_mode": {
    "name": "ipython",
    "version": 3
   },
   "file_extension": ".py",
   "mimetype": "text/x-python",
   "name": "python",
   "nbconvert_exporter": "python",
   "pygments_lexer": "ipython3",
   "version": "3.11.9"
  }
 },
 "nbformat": 4,
 "nbformat_minor": 2
}
